{
  "nbformat": 4,
  "nbformat_minor": 0,
  "metadata": {
    "colab": {
      "name": "Agent_Timing.ipynb",
      "provenance": []
    },
    "kernelspec": {
      "name": "python3",
      "display_name": "Python 3"
    }
  },
  "cells": [
    {
      "cell_type": "code",
      "metadata": {
        "colab": {
          "base_uri": "https://localhost:8080/"
        },
        "id": "n5kXl9UBbUuI",
        "outputId": "61874e53-1909-4b59-c6e8-7f9864b65b4c"
      },
      "source": [
        "!pip install dgl\n",
        "!pip install pygame"
      ],
      "execution_count": null,
      "outputs": [
        {
          "output_type": "stream",
          "text": [
            "Collecting dgl\n",
            "\u001b[?25l  Downloading https://files.pythonhosted.org/packages/46/62/da7146c0e46f93dd1f17cccea3010def155a1f479c0b036b604e952f321f/dgl-0.5.3-cp36-cp36m-manylinux1_x86_64.whl (3.6MB)\n",
            "\u001b[K     |████████████████████████████████| 3.6MB 8.1MB/s \n",
            "\u001b[?25hRequirement already satisfied: numpy>=1.14.0 in /usr/local/lib/python3.6/dist-packages (from dgl) (1.19.5)\n",
            "Requirement already satisfied: networkx>=2.1 in /usr/local/lib/python3.6/dist-packages (from dgl) (2.5)\n",
            "Requirement already satisfied: requests>=2.19.0 in /usr/local/lib/python3.6/dist-packages (from dgl) (2.23.0)\n",
            "Requirement already satisfied: scipy>=1.1.0 in /usr/local/lib/python3.6/dist-packages (from dgl) (1.4.1)\n",
            "Requirement already satisfied: decorator>=4.3.0 in /usr/local/lib/python3.6/dist-packages (from networkx>=2.1->dgl) (4.4.2)\n",
            "Requirement already satisfied: certifi>=2017.4.17 in /usr/local/lib/python3.6/dist-packages (from requests>=2.19.0->dgl) (2020.12.5)\n",
            "Requirement already satisfied: urllib3!=1.25.0,!=1.25.1,<1.26,>=1.21.1 in /usr/local/lib/python3.6/dist-packages (from requests>=2.19.0->dgl) (1.24.3)\n",
            "Requirement already satisfied: chardet<4,>=3.0.2 in /usr/local/lib/python3.6/dist-packages (from requests>=2.19.0->dgl) (3.0.4)\n",
            "Requirement already satisfied: idna<3,>=2.5 in /usr/local/lib/python3.6/dist-packages (from requests>=2.19.0->dgl) (2.10)\n",
            "Installing collected packages: dgl\n",
            "Successfully installed dgl-0.5.3\n",
            "Collecting pygame\n",
            "\u001b[?25l  Downloading https://files.pythonhosted.org/packages/01/da/4ff439558641a26dd29b04c25947e6c0ace041f56b2aa2ef1134edab06b8/pygame-2.0.1-cp36-cp36m-manylinux1_x86_64.whl (11.8MB)\n",
            "\u001b[K     |████████████████████████████████| 11.8MB 7.9MB/s \n",
            "\u001b[?25hInstalling collected packages: pygame\n",
            "Successfully installed pygame-2.0.1\n"
          ],
          "name": "stdout"
        }
      ]
    },
    {
      "cell_type": "code",
      "metadata": {
        "colab": {
          "base_uri": "https://localhost:8080/"
        },
        "id": "KQuyJFjcbc5F",
        "outputId": "b17b8306-d76b-4d02-c6c0-62a8abed258b"
      },
      "source": [
        "from google.colab import drive\n",
        "drive.mount('/content/gdrive', force_remount=True)\n",
        "import sys\n",
        "sys.path.append('/content/gdrive/My Drive/EtaZero')"
      ],
      "execution_count": null,
      "outputs": [
        {
          "output_type": "stream",
          "text": [
            "Mounted at /content/gdrive\n"
          ],
          "name": "stdout"
        }
      ]
    },
    {
      "cell_type": "code",
      "metadata": {
        "colab": {
          "base_uri": "https://localhost:8080/"
        },
        "id": "K2g2XwCabfER",
        "outputId": "c9c17650-7db0-4885-f0f2-d07085c0eff9"
      },
      "source": [
        "%matplotlib inline \n",
        "import matplotlib.pyplot as plt\n",
        "import os\n",
        "import torch\n",
        "from agent_timer import AgentTimer\n",
        "from agents.eta_zero import EtaZero\n",
        "from agents.uct_agent import UCTAgent"
      ],
      "execution_count": null,
      "outputs": [
        {
          "output_type": "stream",
          "text": [
            "pygame 2.0.1 (SDL 2.0.14, Python 3.6.9)\n",
            "Hello from the pygame community. https://www.pygame.org/contribute.html\n"
          ],
          "name": "stdout"
        },
        {
          "output_type": "stream",
          "text": [
            "DGL backend not selected or invalid.  Assuming PyTorch for now.\n",
            "Using backend: pytorch\n"
          ],
          "name": "stderr"
        },
        {
          "output_type": "stream",
          "text": [
            "Setting the default backend to \"pytorch\". You can change it in the ~/.dgl/config.json file or export the DGLBACKEND environment variable.  Valid options are: pytorch, mxnet, tensorflow (all lowercase)\n"
          ],
          "name": "stdout"
        }
      ]
    },
    {
      "cell_type": "code",
      "metadata": {
        "id": "TMCa1-WYbtcf"
      },
      "source": [
        "timer = AgentTimer(\"/content/gdrive/My Drive/EtaZero\", section=\"Attempt5\")"
      ],
      "execution_count": null,
      "outputs": []
    },
    {
      "cell_type": "code",
      "metadata": {
        "colab": {
          "base_uri": "https://localhost:8080/"
        },
        "id": "wVb-65fFw-zA",
        "outputId": "296bdb60-1f89-45b8-ce5f-24dfee7c3440"
      },
      "source": [
        "timer.get_info()"
      ],
      "execution_count": null,
      "outputs": [
        {
          "output_type": "execute_result",
          "data": {
            "text/plain": [
              "{'EtaZero-100': 30,\n",
              " 'EtaZero-1000': 30,\n",
              " 'EtaZero-200': 30,\n",
              " 'EtaZero-50': 30,\n",
              " 'EtaZero-500': 30,\n",
              " 'uct-1000': 30,\n",
              " 'uct-200': 30,\n",
              " 'uct-2000': 30,\n",
              " 'uct-500': 30,\n",
              " 'uct-5000': 30}"
            ]
          },
          "metadata": {
            "tags": []
          },
          "execution_count": 6
        }
      ]
    },
    {
      "cell_type": "code",
      "metadata": {
        "colab": {
          "base_uri": "https://localhost:8080/"
        },
        "id": "G3agsMDdcV6a",
        "outputId": "a1ce27b1-ddf6-41cb-c2b5-0f408b652014"
      },
      "source": [
        "agents = [\n",
        "  # EtaZero(load_net(1), samples_per_move=200),\n",
        "  UCTAgent(10_000)\n",
        "]\n",
        "for agent in agents:\n",
        "  timer.time(\n",
        "      agent,\n",
        "      num_games=max(30 - timer.get_info().get(agent.time_id, 0), 0)\n",
        "  )"
      ],
      "execution_count": null,
      "outputs": [
        {
          "output_type": "stream",
          "text": [
            "timing uct-10000 with 30 games...\n",
            " 0% . . .\n",
            "10% . . .\n",
            "20% . . .\n",
            "30% . . .\n",
            "40% . . .\n",
            "50% . . .\n",
            "60% . . .\n",
            "70% . . .\n",
            "80% . . .\n",
            "90% . . .\n",
            "100%\n"
          ],
          "name": "stdout"
        }
      ]
    }
  ]
}