{
  "nbformat": 4,
  "nbformat_minor": 0,
  "metadata": {
    "colab": {
      "name": "EtaTrainer.ipynb",
      "provenance": [],
      "collapsed_sections": []
    },
    "kernelspec": {
      "name": "python3",
      "display_name": "Python 3"
    }
  },
  "cells": [
    {
      "cell_type": "code",
      "metadata": {
        "colab": {
          "base_uri": "https://localhost:8080/"
        },
        "id": "01gaJhoXz7Ty",
        "outputId": "edff68d3-5980-4081-9f84-044553c08ada"
      },
      "source": [
        "# !pip install dgl-cu110\n",
        "!pip install dgl\n",
        "!pip install pygame\n",
        "!pip install portalocker"
      ],
      "execution_count": null,
      "outputs": [
        {
          "output_type": "stream",
          "text": [
            "Collecting dgl\n",
            "\u001b[?25l  Downloading https://files.pythonhosted.org/packages/71/c4/ce24841375cf4393787dbf9a645e271c19a03d2d9a0e5770b08ba76bcfde/dgl-0.6.1-cp37-cp37m-manylinux1_x86_64.whl (4.4MB)\n",
            "\u001b[K     |████████████████████████████████| 4.4MB 6.1MB/s \n",
            "\u001b[?25hRequirement already satisfied: networkx>=2.1 in /usr/local/lib/python3.7/dist-packages (from dgl) (2.5.1)\n",
            "Requirement already satisfied: numpy>=1.14.0 in /usr/local/lib/python3.7/dist-packages (from dgl) (1.19.5)\n",
            "Requirement already satisfied: requests>=2.19.0 in /usr/local/lib/python3.7/dist-packages (from dgl) (2.23.0)\n",
            "Requirement already satisfied: scipy>=1.1.0 in /usr/local/lib/python3.7/dist-packages (from dgl) (1.4.1)\n",
            "Requirement already satisfied: decorator<5,>=4.3 in /usr/local/lib/python3.7/dist-packages (from networkx>=2.1->dgl) (4.4.2)\n",
            "Requirement already satisfied: urllib3!=1.25.0,!=1.25.1,<1.26,>=1.21.1 in /usr/local/lib/python3.7/dist-packages (from requests>=2.19.0->dgl) (1.24.3)\n",
            "Requirement already satisfied: certifi>=2017.4.17 in /usr/local/lib/python3.7/dist-packages (from requests>=2.19.0->dgl) (2020.12.5)\n",
            "Requirement already satisfied: chardet<4,>=3.0.2 in /usr/local/lib/python3.7/dist-packages (from requests>=2.19.0->dgl) (3.0.4)\n",
            "Requirement already satisfied: idna<3,>=2.5 in /usr/local/lib/python3.7/dist-packages (from requests>=2.19.0->dgl) (2.10)\n",
            "Installing collected packages: dgl\n",
            "Successfully installed dgl-0.6.1\n",
            "Collecting pygame\n",
            "\u001b[?25l  Downloading https://files.pythonhosted.org/packages/4b/9e/c400554dd1d0e562bd4379f35ad5023c68fc120003a58991405850f56f95/pygame-2.0.1-cp37-cp37m-manylinux1_x86_64.whl (11.8MB)\n",
            "\u001b[K     |████████████████████████████████| 11.8MB 6.4MB/s \n",
            "\u001b[?25hInstalling collected packages: pygame\n",
            "Successfully installed pygame-2.0.1\n",
            "Collecting portalocker\n",
            "  Downloading https://files.pythonhosted.org/packages/68/33/cb524f4de298509927b90aa5ee34767b9a2b93e663cf354b2a3efa2b4acd/portalocker-2.3.0-py2.py3-none-any.whl\n",
            "Installing collected packages: portalocker\n",
            "Successfully installed portalocker-2.3.0\n"
          ],
          "name": "stdout"
        }
      ]
    },
    {
      "cell_type": "code",
      "metadata": {
        "id": "i1t-kAc1ftQH",
        "colab": {
          "base_uri": "https://localhost:8080/"
        },
        "outputId": "1c88c061-b0ec-49ed-a5f6-7e7beabd4899"
      },
      "source": [
        "from google.colab import drive\n",
        "drive.mount(\"/content/gdrive\", force_remount=True)\n",
        "import sys\n",
        "base_path = \"/content/gdrive/My Drive/EtaZero/src\"\n",
        "sys.path.append(base_path)"
      ],
      "execution_count": null,
      "outputs": [
        {
          "output_type": "stream",
          "text": [
            "Mounted at /content/gdrive\n"
          ],
          "name": "stdout"
        }
      ]
    },
    {
      "cell_type": "code",
      "metadata": {
        "id": "VPFhzWCYfX-Z",
        "colab": {
          "base_uri": "https://localhost:8080/"
        },
        "outputId": "54277128-fa2d-4bab-9283-c51b29ebd6c5"
      },
      "source": [
        "from networks.graph_networks import PolicyValRGCN\n",
        "from networks.trainer import Trainer\n",
        "from time import perf_counter\n",
        "import datetime\n",
        "import os\n",
        "import utils\n",
        "section = \"Attempt7\""
      ],
      "execution_count": null,
      "outputs": [
        {
          "output_type": "stream",
          "text": [
            "DGL backend not selected or invalid.  Assuming PyTorch for now.\n",
            "Using backend: pytorch\n"
          ],
          "name": "stderr"
        },
        {
          "output_type": "stream",
          "text": [
            "Setting the default backend to \"pytorch\". You can change it in the ~/.dgl/config.json file or export the DGLBACKEND environment variable.  Valid options are: pytorch, mxnet, tensorflow (all lowercase)\n",
            "pygame 2.0.1 (SDL 2.0.14, Python 3.7.10)\n",
            "Hello from the pygame community. https://www.pygame.org/contribute.html\n"
          ],
          "name": "stdout"
        }
      ]
    },
    {
      "cell_type": "code",
      "metadata": {
        "id": "RktrKaq9G19D",
        "colab": {
          "base_uri": "https://localhost:8080/"
        },
        "outputId": "6b2bc3d9-6b15-47ee-a42c-96dd352af162"
      },
      "source": [
        "paths = utils.get_model_files(base_path=base_path, section=section)\n",
        "if len(paths) > 0:\n",
        "  max_iter = max(paths.keys())\n",
        "  print(paths[max_iter])"
      ],
      "execution_count": null,
      "outputs": [
        {
          "output_type": "stream",
          "text": [
            "PolicyValRGCN-140-2021-04-16-04-15-16.pt\n"
          ],
          "name": "stdout"
        }
      ]
    },
    {
      "cell_type": "code",
      "metadata": {
        "id": "LBtgymQufTpt",
        "colab": {
          "base_uri": "https://localhost:8080/"
        },
        "outputId": "29ab79df-92fd-439f-fb98-12d842d43206"
      },
      "source": [
        "print(datetime.datetime.now().strftime(\"%Y-%m-%d %H:%M:%S\"))\n",
        "# model = PolicyValRGCN(dims=[3,128,128,64,64,32,32,16,2])\n",
        "trainer = Trainer(base_path=base_path, section=section,\n",
        "                  load_iter=max_iter)\n",
        "                  # model=model)\n",
        "t = perf_counter()\n",
        "\n",
        "completed_games = trainer.count_games()\n",
        "c7 = min(completed_games, 200)\n",
        "c5 = completed_games - c7\n",
        "\n",
        "trainer.eta_training_loop(1, samples_per_move=200, l2norm=10e-4,\n",
        "  games_5=800-c5, games_7=200-c7, n_epochs=10, lr=0.0003,\n",
        "  batch_size=64)#, from_train_file=\"EtaZero-200-PolicyValRGCN-77-2021-02-18-07-34-24.csv\")\n",
        "trainer.eta_training_loop(5, samples_per_move=200, l2norm=10e-4,\n",
        "  games_5=800, games_7=200, n_epochs=10, lr=0.0003,\n",
        "  batch_size=64)#, from_train_file=\"EtaZero-200-PolicyValRGCN-88-2021-03-09-13-00-56.csv\")\n",
        "print(f\"total time: {perf_counter() - t:.1f}s\")"
      ],
      "execution_count": null,
      "outputs": [
        {
          "output_type": "stream",
          "text": [
            "2021-04-16 08:52:24\n",
            "\n",
            "==================== Training iteration 140 (0 of 1) ====================\n",
            "Saving data at:\n",
            "/content/gdrive/My Drive/EtaZero/src/data/training/Attempt7/EtaZero-200-PolicyValRGCN-140-2021-04-16-04-15-16.csv\n",
            "generating data from 987 games...\n",
            " 0% . . . . . . . . . . . . . . . . . . . . . . . . . . . . . . . . . . . . . . . . . . . . . . . . . . . . . . . . . . . . . . . . . . . . . . . . . . . . . . . . . . . . . . . . . . . . . . . . . . .\n",
            "10% . . . . . . . . . . . . . . . . . . . . . . . . . . . . . . . . . . . . . . . . . . . . . . . . . . . . . . . . . . . . . . . . . . . . . . . . . . . . . . . . . . . . . . . . . . . . . . . . . . .\n",
            "20% . . . . . . . . . . . . . . . . . . . . . . . . . . . . . . . . . . . . . . . . . . . . . . . . . . . . . . . . . . . . . . . . . . . . . . . . . . . . . . . . . . . . . . . . . . . . . . . . . . .\n",
            "30% . . . . . . . . . . . . . . . . . . . . . . . . . . . . . . . . . . . . . . . . . . . . . . . . . . . . . . . . . . . . . . . . . . . . . . . . . . . . . . . . . . . . . . . . . . . . . . . . . .\n",
            "40% . . . . . . . . . . . . . . . . . . . . . . . . . . . . . . . . . . . . . . . . . . . . . . . . . . . . . . . . . . . . . . . . . . . . . . . . . . . . . . . . . . . . . . . . . . . . . . . . . . .\n",
            "50% . . . . . . . . . . . . . . . . . . . . . . . . . . . . . . . . . . . . . . . . . . . . . . . . . . . . . . . . . . . . . . . . . . . . . . . . . . . . . . . . . . . . . . . . . . . . . . . . . . .\n",
            "60% . . . . . . . . . . . . . . . . . . . . . . . . . . . . . . . . . . . . . . . . . . . . . . . . . . . . . . . . . . . . . . . . . . . . . . . . . . . . . . . . . . . . . . . . . . . . . . . . . .\n",
            "70% . . . . . . . . . . . . . . . . . . . . . . . . . . . . . . . . . . . . . . . . . . . . . . . . . . . . . . . . . . . . . . . . . . . . . . . . . . . . . . . . . . . . ."
          ],
          "name": "stdout"
        }
      ]
    },
    {
      "cell_type": "code",
      "metadata": {
        "id": "YurFdQa_GboE"
      },
      "source": [
        ""
      ],
      "execution_count": null,
      "outputs": []
    }
  ]
}