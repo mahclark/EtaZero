{
  "nbformat": 4,
  "nbformat_minor": 0,
  "metadata": {
    "colab": {
      "name": "Base-9 Tester.ipynb",
      "provenance": []
    },
    "kernelspec": {
      "name": "python3",
      "display_name": "Python 3"
    },
    "language_info": {
      "name": "python"
    }
  },
  "cells": [
    {
      "cell_type": "code",
      "metadata": {
        "colab": {
          "base_uri": "https://localhost:8080/"
        },
        "id": "Jw1uL7YWL3DO",
        "outputId": "597b4abf-f0cb-4c5b-ff88-22782b87837f"
      },
      "source": [
        "!pip install dgl\n",
        "!pip install pygame\n",
        "!pip install portalocker"
      ],
      "execution_count": null,
      "outputs": [
        {
          "output_type": "stream",
          "text": [
            "Collecting dgl\n",
            "\u001b[?25l  Downloading https://files.pythonhosted.org/packages/71/c4/ce24841375cf4393787dbf9a645e271c19a03d2d9a0e5770b08ba76bcfde/dgl-0.6.1-cp37-cp37m-manylinux1_x86_64.whl (4.4MB)\n",
            "\u001b[K     |████████████████████████████████| 4.4MB 7.9MB/s \n",
            "\u001b[?25hRequirement already satisfied: networkx>=2.1 in /usr/local/lib/python3.7/dist-packages (from dgl) (2.5.1)\n",
            "Requirement already satisfied: requests>=2.19.0 in /usr/local/lib/python3.7/dist-packages (from dgl) (2.23.0)\n",
            "Requirement already satisfied: numpy>=1.14.0 in /usr/local/lib/python3.7/dist-packages (from dgl) (1.19.5)\n",
            "Requirement already satisfied: scipy>=1.1.0 in /usr/local/lib/python3.7/dist-packages (from dgl) (1.4.1)\n",
            "Requirement already satisfied: decorator<5,>=4.3 in /usr/local/lib/python3.7/dist-packages (from networkx>=2.1->dgl) (4.4.2)\n",
            "Requirement already satisfied: idna<3,>=2.5 in /usr/local/lib/python3.7/dist-packages (from requests>=2.19.0->dgl) (2.10)\n",
            "Requirement already satisfied: certifi>=2017.4.17 in /usr/local/lib/python3.7/dist-packages (from requests>=2.19.0->dgl) (2020.12.5)\n",
            "Requirement already satisfied: urllib3!=1.25.0,!=1.25.1,<1.26,>=1.21.1 in /usr/local/lib/python3.7/dist-packages (from requests>=2.19.0->dgl) (1.24.3)\n",
            "Requirement already satisfied: chardet<4,>=3.0.2 in /usr/local/lib/python3.7/dist-packages (from requests>=2.19.0->dgl) (3.0.4)\n",
            "Installing collected packages: dgl\n",
            "Successfully installed dgl-0.6.1\n",
            "Collecting pygame\n",
            "\u001b[?25l  Downloading https://files.pythonhosted.org/packages/4b/9e/c400554dd1d0e562bd4379f35ad5023c68fc120003a58991405850f56f95/pygame-2.0.1-cp37-cp37m-manylinux1_x86_64.whl (11.8MB)\n",
            "\u001b[K     |████████████████████████████████| 11.8MB 7.1MB/s \n",
            "\u001b[?25hInstalling collected packages: pygame\n",
            "Successfully installed pygame-2.0.1\n",
            "Collecting portalocker\n",
            "  Downloading https://files.pythonhosted.org/packages/68/33/cb524f4de298509927b90aa5ee34767b9a2b93e663cf354b2a3efa2b4acd/portalocker-2.3.0-py2.py3-none-any.whl\n",
            "Installing collected packages: portalocker\n",
            "Successfully installed portalocker-2.3.0\n"
          ],
          "name": "stdout"
        }
      ]
    },
    {
      "cell_type": "code",
      "metadata": {
        "colab": {
          "base_uri": "https://localhost:8080/"
        },
        "id": "E0t5WzJhL4PY",
        "outputId": "0073d7e2-cccb-4db6-c5e4-7b75fee633f3"
      },
      "source": [
        "from google.colab import drive\n",
        "drive.mount(\"/content/gdrive\", force_remount=True)\n",
        "import sys\n",
        "base_path = \"/content/gdrive/My Drive/EtaZero/src\"\n",
        "sys.path.append(base_path)"
      ],
      "execution_count": null,
      "outputs": [
        {
          "output_type": "stream",
          "text": [
            "Mounted at /content/gdrive\n"
          ],
          "name": "stdout"
        }
      ]
    },
    {
      "cell_type": "code",
      "metadata": {
        "colab": {
          "base_uri": "https://localhost:8080/"
        },
        "id": "h3Hap5M-L5iu",
        "outputId": "5bb6320a-08c7-4330-be07-3b0c99dee074"
      },
      "source": [
        "%matplotlib inline\n",
        "from agent_evaluation.arena import Arena\n",
        "from agents.eta_zero import EtaZero\n",
        "from agents.random_agent import RandomAgent\n",
        "from agents.network_agent import RawNetwork\n",
        "from agents.uct_agent import UCTAgent\n",
        "from networks.graph_networks import PolicyValRGCN\n",
        "import datetime\n",
        "import os\n",
        "import torch\n",
        "import utils\n",
        "section = \"Attempt7\""
      ],
      "execution_count": null,
      "outputs": [
        {
          "output_type": "stream",
          "text": [
            "pygame 2.0.1 (SDL 2.0.14, Python 3.7.10)\n",
            "Hello from the pygame community. https://www.pygame.org/contribute.html\n"
          ],
          "name": "stdout"
        },
        {
          "output_type": "stream",
          "text": [
            "DGL backend not selected or invalid.  Assuming PyTorch for now.\n",
            "Using backend: pytorch\n"
          ],
          "name": "stderr"
        },
        {
          "output_type": "stream",
          "text": [
            "Setting the default backend to \"pytorch\". You can change it in the ~/.dgl/config.json file or export the DGLBACKEND environment variable.  Valid options are: pytorch, mxnet, tensorflow (all lowercase)\n"
          ],
          "name": "stdout"
        }
      ]
    },
    {
      "cell_type": "code",
      "metadata": {
        "id": "yoKLlCROMeCt"
      },
      "source": [
        "custom_eta = EtaZero(utils.load_net(114, base_path, section), 50)\n",
        "custom_eta.elo_id += \"-base-9\"\n",
        "def custom_members():\n",
        "  return [custom_eta]\n",
        "\n",
        "eta_series = EtaZero.Series(50, base_path, section, lower_limit=70)\n",
        "eta_series.get_members = custom_members"
      ],
      "execution_count": null,
      "outputs": []
    },
    {
      "cell_type": "code",
      "metadata": {
        "colab": {
          "base_uri": "https://localhost:8080/"
        },
        "id": "-KzsAX7CL7kJ",
        "outputId": "e1199e00-988e-46f6-b673-87cf1a494385"
      },
      "source": [
        "arena = Arena(base_path, section=section)\n",
        "arena.add_task(\n",
        "    eta_series,\n",
        "    RandomAgent.Series(),\n",
        "    game_pairs=20,\n",
        "    base=9\n",
        ")\n",
        "arena.add_task(\n",
        "    eta_series,\n",
        "    UCTAgent.Series([5000, 10_000]),\n",
        "    game_pairs=40,\n",
        "    base=9\n",
        ")\n",
        "arena.start()"
      ],
      "execution_count": null,
      "outputs": [
        {
          "output_type": "stream",
          "text": [
            "20 games EtaZero-50-PolicyValRGCN-114-2021-03-26-07-31-12-base-9 vs uct-5000 (fixed):\n",
            " 0% + + won 2 of 2\n",
            "10% + + won 4 of 4\n",
            "20% + + won 6 of 6\n",
            "30% + + won 8 of 8\n",
            "40% + + won 10 of 10\n",
            "50% + + won 12 of 12\n",
            "60% + + won 14 of 14\n",
            "70% + + won 16 of 16\n",
            "80% + + won 18 of 18\n",
            "90% + - won 19 of 20\n",
            "100%\n",
            "Won 19 of 20\n",
            "New elo: 1578.0 (history = {'uct-10000': [18, 20], 'uct-5000': [37, 40], 'Random Agent': [40, 41]})\n",
            "20 games EtaZero-50-PolicyValRGCN-114-2021-03-26-07-31-12-base-9 vs uct-10000 (fixed):\n",
            " 0% + + won 2 of 2\n",
            "10% + + won 4 of 4\n",
            "20% + - won 5 of 6\n",
            "30% - + won 6 of 8\n",
            "40% + + won 8 of 10\n",
            "50% + + won 10 of 12\n",
            "60% + - won 11 of 14\n",
            "70% + + won 13 of 16\n",
            "80% + + won 15 of 18\n",
            "90% + + won 17 of 20\n",
            "100%\n",
            "Won 17 of 20\n",
            "New elo: 1624.3 (history = {'uct-10000': [35, 40], 'uct-5000': [37, 40], 'Random Agent': [40, 41]})\n"
          ],
          "name": "stdout"
        }
      ]
    },
    {
      "cell_type": "code",
      "metadata": {
        "id": "YUHq8gcLNJlV"
      },
      "source": [
        ""
      ],
      "execution_count": null,
      "outputs": []
    }
  ]
}